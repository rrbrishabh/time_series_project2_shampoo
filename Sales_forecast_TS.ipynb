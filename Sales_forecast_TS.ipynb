{
 "cells": [
  {
   "cell_type": "code",
   "execution_count": 1,
   "metadata": {},
   "outputs": [],
   "source": [
    "import pandas as pd\n",
    "import matplotlib.pyplot as plt\n",
    "%matplotlib inline\n",
    "\n",
    "# this last line help to reduce the code like if don't have then we need to do some more code (plt.show()) \n",
    "# i just want to optimize the process with the help of %matplotlib inline"
   ]
  },
  {
   "cell_type": "code",
   "execution_count": 2,
   "metadata": {},
   "outputs": [],
   "source": [
    "# i just load this file no need to wirte a path because im working with same folder where file is available (/)\n",
    "\n",
    "shampoo = pd.read_csv('shampoo.csv')"
   ]
  },
  {
   "cell_type": "code",
   "execution_count": 3,
   "metadata": {},
   "outputs": [
    {
     "data": {
      "text/html": [
       "<div>\n",
       "<style scoped>\n",
       "    .dataframe tbody tr th:only-of-type {\n",
       "        vertical-align: middle;\n",
       "    }\n",
       "\n",
       "    .dataframe tbody tr th {\n",
       "        vertical-align: top;\n",
       "    }\n",
       "\n",
       "    .dataframe thead th {\n",
       "        text-align: right;\n",
       "    }\n",
       "</style>\n",
       "<table border=\"1\" class=\"dataframe\">\n",
       "  <thead>\n",
       "    <tr style=\"text-align: right;\">\n",
       "      <th></th>\n",
       "      <th>Month</th>\n",
       "      <th>Sales</th>\n",
       "    </tr>\n",
       "  </thead>\n",
       "  <tbody>\n",
       "    <tr>\n",
       "      <td>0</td>\n",
       "      <td>01-Jan</td>\n",
       "      <td>266.0</td>\n",
       "    </tr>\n",
       "    <tr>\n",
       "      <td>1</td>\n",
       "      <td>02-Jan</td>\n",
       "      <td>145.9</td>\n",
       "    </tr>\n",
       "    <tr>\n",
       "      <td>2</td>\n",
       "      <td>03-Jan</td>\n",
       "      <td>183.1</td>\n",
       "    </tr>\n",
       "    <tr>\n",
       "      <td>3</td>\n",
       "      <td>04-Jan</td>\n",
       "      <td>119.3</td>\n",
       "    </tr>\n",
       "    <tr>\n",
       "      <td>4</td>\n",
       "      <td>05-Jan</td>\n",
       "      <td>180.3</td>\n",
       "    </tr>\n",
       "  </tbody>\n",
       "</table>\n",
       "</div>"
      ],
      "text/plain": [
       "    Month  Sales\n",
       "0  01-Jan  266.0\n",
       "1  02-Jan  145.9\n",
       "2  03-Jan  183.1\n",
       "3  04-Jan  119.3\n",
       "4  05-Jan  180.3"
      ]
     },
     "execution_count": 3,
     "metadata": {},
     "output_type": "execute_result"
    }
   ],
   "source": [
    "shampoo.head()"
   ]
  },
  {
   "cell_type": "code",
   "execution_count": 4,
   "metadata": {},
   "outputs": [
    {
     "data": {
      "text/plain": [
       "pandas.core.frame.DataFrame"
      ]
     },
     "execution_count": 4,
     "metadata": {},
     "output_type": "execute_result"
    }
   ],
   "source": [
    "type(shampoo)"
   ]
  },
  {
   "cell_type": "code",
   "execution_count": 5,
   "metadata": {},
   "outputs": [],
   "source": [
    "# as we see this a dataframe but we need time series\n",
    "\n",
    "# if want to know what type of parameters they want to use shift+tab+tab\n",
    "\n",
    "# in interview they asked how you will import csv file as a time series \n",
    "# we use index_col --- we use 0 because our data column index is 0 position \n",
    "# parse_dates --- True (means we want this column it will be a proper data)\n",
    "# squeeze --- True (help to convert in time series)\n",
    "\n",
    "\n",
    "shampoo = pd.read_csv('shampoo.csv', index_col = [0], parse_dates = True, squeeze = True)"
   ]
  },
  {
   "cell_type": "code",
   "execution_count": 6,
   "metadata": {},
   "outputs": [
    {
     "data": {
      "text/plain": [
       "pandas.core.series.Series"
      ]
     },
     "execution_count": 6,
     "metadata": {},
     "output_type": "execute_result"
    }
   ],
   "source": [
    "type(shampoo)"
   ]
  },
  {
   "cell_type": "code",
   "execution_count": 7,
   "metadata": {},
   "outputs": [
    {
     "data": {
      "text/plain": [
       "Month\n",
       "01-Jan    266.0\n",
       "02-Jan    145.9\n",
       "03-Jan    183.1\n",
       "04-Jan    119.3\n",
       "05-Jan    180.3\n",
       "Name: Sales, dtype: float64"
      ]
     },
     "execution_count": 7,
     "metadata": {},
     "output_type": "execute_result"
    }
   ],
   "source": [
    "shampoo.head()"
   ]
  },
  {
   "cell_type": "code",
   "execution_count": 8,
   "metadata": {},
   "outputs": [
    {
     "data": {
      "text/plain": [
       "<matplotlib.axes._subplots.AxesSubplot at 0x7fcdf3fbea90>"
      ]
     },
     "execution_count": 8,
     "metadata": {},
     "output_type": "execute_result"
    },
    {
     "data": {
      "image/png": "[encoded data removed]",
      "text/plain": [
       "<Figure size 432x288 with 1 Axes>"
      ]
     },
     "metadata": {
      "needs_background": "light"
     },
     "output_type": "display_data"
    }
   ],
   "source": [
    "# we plot a line on shampoo series\n",
    "# pandas have inbliuld function help to plot \n",
    "\n",
    "shampoo.plot()"
   ]
  },
  {
   "cell_type": "code",
   "execution_count": 9,
   "metadata": {},
   "outputs": [
    {
     "data": {
      "text/plain": [
       "<matplotlib.axes._subplots.AxesSubplot at 0x7fcdf4b23950>"
      ]
     },
     "execution_count": 9,
     "metadata": {},
     "output_type": "execute_result"
    },
    {
     "data": {
      "image/png": "[encoded data removed]",
      "text/plain": [
       "<Figure size 432x288 with 1 Axes>"
      ]
     },
     "metadata": {
      "needs_background": "light"
     },
     "output_type": "display_data"
    }
   ],
   "source": [
    "# we also change the style of the plot\n",
    "# here i csn show you\n",
    "# just add style parameter and k(*,^,+,.,etc) in a string it will show you \n",
    "\n",
    "shampoo.plot(style = 'k.')"
   ]
  },
  {
   "cell_type": "code",
   "execution_count": 10,
   "metadata": {},
   "outputs": [
    {
     "data": {
      "text/plain": [
       "<matplotlib.axes._subplots.AxesSubplot at 0x7fcdf4ab9f10>"
      ]
     },
     "execution_count": 10,
     "metadata": {},
     "output_type": "execute_result"
    },
    {
     "data": {
      "image/png": "[encoded data removed]",
      "text/plain": [
       "<Figure size 432x288 with 1 Axes>"
      ]
     },
     "metadata": {
      "needs_background": "light"
     },
     "output_type": "display_data"
    }
   ],
   "source": [
    "shampoo.plot(style = 'k^')"
   ]
  },
  {
   "cell_type": "code",
   "execution_count": 11,
   "metadata": {},
   "outputs": [
    {
     "data": {
      "text/plain": [
       "36"
      ]
     },
     "execution_count": 11,
     "metadata": {},
     "output_type": "execute_result"
    }
   ],
   "source": [
    "# if we want to know how many row we have \n",
    "# size give the count of rows\n",
    "\n",
    "shampoo.size"
   ]
  },
  {
   "cell_type": "code",
   "execution_count": 12,
   "metadata": {},
   "outputs": [
    {
     "data": {
      "text/plain": [
       "(36,)"
      ]
     },
     "execution_count": 12,
     "metadata": {},
     "output_type": "execute_result"
    }
   ],
   "source": [
    "# shape also give same output\n",
    "shampoo.shape"
   ]
  },
  {
   "cell_type": "code",
   "execution_count": 13,
   "metadata": {},
   "outputs": [
    {
     "data": {
      "text/plain": [
       "count     36.000000\n",
       "mean     312.600000\n",
       "std      148.937164\n",
       "min      119.300000\n",
       "25%      192.450000\n",
       "50%      280.150000\n",
       "75%      411.100000\n",
       "max      682.000000\n",
       "Name: Sales, dtype: float64"
      ]
     },
     "execution_count": 13,
     "metadata": {},
     "output_type": "execute_result"
    }
   ],
   "source": [
    "# there are two imp. thing after discribe or any other end with '()' is name is method\n",
    "# and like shape , size this kind is called property\n",
    "\n",
    "# describe help to see the statical analysis like center of central tendency\n",
    "\n",
    "shampoo.describe()"
   ]
  },
  {
   "cell_type": "code",
   "execution_count": 14,
   "metadata": {},
   "outputs": [],
   "source": [
    "# if we doing time seies one of the process is smoothing analysis\n",
    "# it not a big thing it is just we caculating the moving average\n",
    "\n",
    "shampoo_MA = shampoo.rolling(window = 10).mean()"
   ]
  },
  {
   "cell_type": "code",
   "execution_count": 15,
   "metadata": {},
   "outputs": [
    {
     "data": {
      "text/plain": [
       "<matplotlib.axes._subplots.AxesSubplot at 0x7fcdf4c29f90>"
      ]
     },
     "execution_count": 15,
     "metadata": {},
     "output_type": "execute_result"
    },
    {
     "data": {
      "image/png": "[encoded data removed]",
      "text/plain": [
       "<Figure size 432x288 with 1 Axes>"
      ]
     },
     "metadata": {
      "needs_background": "light"
     },
     "output_type": "display_data"
    }
   ],
   "source": [
    "shampoo_MA.plot()\n",
    "\n",
    "# here we see this curve is very smooth and moving avg. (MA) is mostly used in stock market analysis \n",
    "\n",
    "# this curve is just for the presentation \n",
    "# here i create a baseline model like how i calculate the moving avg."
   ]
  },
  {
   "cell_type": "code",
   "execution_count": 16,
   "metadata": {},
   "outputs": [
    {
     "data": {
      "text/plain": [
       "Month\n",
       "01-Jan    266.0\n",
       "02-Jan    145.9\n",
       "03-Jan    183.1\n",
       "04-Jan    119.3\n",
       "05-Jan    180.3\n",
       "Name: Sales, dtype: float64"
      ]
     },
     "execution_count": 16,
     "metadata": {},
     "output_type": "execute_result"
    }
   ],
   "source": [
    "shampoo.head()"
   ]
  },
  {
   "cell_type": "markdown",
   "metadata": {},
   "source": [
    "### here window = 10 means we take 0 to 9 valeus from the head and taking moving averge on it and after the we calcualte the next months data"
   ]
  },
  {
   "cell_type": "code",
   "execution_count": 17,
   "metadata": {},
   "outputs": [],
   "source": [
    "# there are three name of this like :\n",
    "\n",
    "# what is baseline model, what is naive model and what is starting model\n",
    "\n",
    "# in this model everyone creates what is in like we Previous value is the best refector of the next value\n",
    "# like 266 is the best reflector or like predictor for 02 jan\n",
    "\n",
    "\n"
   ]
  },
  {
   "cell_type": "code",
   "execution_count": 18,
   "metadata": {},
   "outputs": [],
   "source": [
    "# shift method help you to shift the value to the next\n",
    "\n",
    "shampoo_baseline_Model = pd.concat([shampoo,shampoo.shift(1)], axis = 1)"
   ]
  },
  {
   "cell_type": "code",
   "execution_count": 19,
   "metadata": {},
   "outputs": [
    {
     "data": {
      "text/html": [
       "<div>\n",
       "<style scoped>\n",
       "    .dataframe tbody tr th:only-of-type {\n",
       "        vertical-align: middle;\n",
       "    }\n",
       "\n",
       "    .dataframe tbody tr th {\n",
       "        vertical-align: top;\n",
       "    }\n",
       "\n",
       "    .dataframe thead th {\n",
       "        text-align: right;\n",
       "    }\n",
       "</style>\n",
       "<table border=\"1\" class=\"dataframe\">\n",
       "  <thead>\n",
       "    <tr style=\"text-align: right;\">\n",
       "      <th></th>\n",
       "      <th>Sales</th>\n",
       "      <th>Sales</th>\n",
       "    </tr>\n",
       "    <tr>\n",
       "      <th>Month</th>\n",
       "      <th></th>\n",
       "      <th></th>\n",
       "    </tr>\n",
       "  </thead>\n",
       "  <tbody>\n",
       "    <tr>\n",
       "      <td>01-Jan</td>\n",
       "      <td>266.0</td>\n",
       "      <td>NaN</td>\n",
       "    </tr>\n",
       "    <tr>\n",
       "      <td>02-Jan</td>\n",
       "      <td>145.9</td>\n",
       "      <td>266.0</td>\n",
       "    </tr>\n",
       "    <tr>\n",
       "      <td>03-Jan</td>\n",
       "      <td>183.1</td>\n",
       "      <td>145.9</td>\n",
       "    </tr>\n",
       "    <tr>\n",
       "      <td>04-Jan</td>\n",
       "      <td>119.3</td>\n",
       "      <td>183.1</td>\n",
       "    </tr>\n",
       "    <tr>\n",
       "      <td>05-Jan</td>\n",
       "      <td>180.3</td>\n",
       "      <td>119.3</td>\n",
       "    </tr>\n",
       "  </tbody>\n",
       "</table>\n",
       "</div>"
      ],
      "text/plain": [
       "        Sales  Sales\n",
       "Month               \n",
       "01-Jan  266.0    NaN\n",
       "02-Jan  145.9  266.0\n",
       "03-Jan  183.1  145.9\n",
       "04-Jan  119.3  183.1\n",
       "05-Jan  180.3  119.3"
      ]
     },
     "execution_count": 19,
     "metadata": {},
     "output_type": "execute_result"
    }
   ],
   "source": [
    "shampoo_baseline_Model.head()"
   ]
  },
  {
   "cell_type": "code",
   "execution_count": 20,
   "metadata": {},
   "outputs": [
    {
     "data": {
      "text/plain": [
       "Index(['Sales', 'Sales'], dtype='object')"
      ]
     },
     "execution_count": 20,
     "metadata": {},
     "output_type": "execute_result"
    }
   ],
   "source": [
    "# here i see i have done the shifting part but the column names are same we have the change the name\n",
    "\n",
    "shampoo_baseline_Model.columns"
   ]
  },
  {
   "cell_type": "code",
   "execution_count": 21,
   "metadata": {},
   "outputs": [],
   "source": [
    "# im using same method which a use in previous code\n",
    "\n",
    "shampoo_baseline_Model.columns = ['Actual_sales', 'Forecast_sales']"
   ]
  },
  {
   "cell_type": "code",
   "execution_count": 22,
   "metadata": {},
   "outputs": [
    {
     "data": {
      "text/html": [
       "<div>\n",
       "<style scoped>\n",
       "    .dataframe tbody tr th:only-of-type {\n",
       "        vertical-align: middle;\n",
       "    }\n",
       "\n",
       "    .dataframe tbody tr th {\n",
       "        vertical-align: top;\n",
       "    }\n",
       "\n",
       "    .dataframe thead th {\n",
       "        text-align: right;\n",
       "    }\n",
       "</style>\n",
       "<table border=\"1\" class=\"dataframe\">\n",
       "  <thead>\n",
       "    <tr style=\"text-align: right;\">\n",
       "      <th></th>\n",
       "      <th>Actual_sales</th>\n",
       "      <th>Forecast_sales</th>\n",
       "    </tr>\n",
       "    <tr>\n",
       "      <th>Month</th>\n",
       "      <th></th>\n",
       "      <th></th>\n",
       "    </tr>\n",
       "  </thead>\n",
       "  <tbody>\n",
       "    <tr>\n",
       "      <td>01-Jan</td>\n",
       "      <td>266.0</td>\n",
       "      <td>NaN</td>\n",
       "    </tr>\n",
       "    <tr>\n",
       "      <td>02-Jan</td>\n",
       "      <td>145.9</td>\n",
       "      <td>266.0</td>\n",
       "    </tr>\n",
       "    <tr>\n",
       "      <td>03-Jan</td>\n",
       "      <td>183.1</td>\n",
       "      <td>145.9</td>\n",
       "    </tr>\n",
       "    <tr>\n",
       "      <td>04-Jan</td>\n",
       "      <td>119.3</td>\n",
       "      <td>183.1</td>\n",
       "    </tr>\n",
       "    <tr>\n",
       "      <td>05-Jan</td>\n",
       "      <td>180.3</td>\n",
       "      <td>119.3</td>\n",
       "    </tr>\n",
       "  </tbody>\n",
       "</table>\n",
       "</div>"
      ],
      "text/plain": [
       "        Actual_sales  Forecast_sales\n",
       "Month                               \n",
       "01-Jan         266.0             NaN\n",
       "02-Jan         145.9           266.0\n",
       "03-Jan         183.1           145.9\n",
       "04-Jan         119.3           183.1\n",
       "05-Jan         180.3           119.3"
      ]
     },
     "execution_count": 22,
     "metadata": {},
     "output_type": "execute_result"
    }
   ],
   "source": [
    "shampoo_baseline_Model.head()"
   ]
  },
  {
   "cell_type": "code",
   "execution_count": 23,
   "metadata": {},
   "outputs": [],
   "source": [
    "# here i see we have a na value so we remove it\n",
    "\n",
    "shampoo_baseline_Model.dropna(inplace = True)"
   ]
  },
  {
   "cell_type": "code",
   "execution_count": 24,
   "metadata": {},
   "outputs": [],
   "source": [
    "# here i import the mean_sqquared_error for see the error vlaues\n",
    "\n",
    "import numpy as np\n",
    "from sklearn.metrics import mean_squared_error"
   ]
  },
  {
   "cell_type": "code",
   "execution_count": 25,
   "metadata": {},
   "outputs": [],
   "source": [
    "shampoo_error = mean_squared_error(shampoo_baseline_Model.Actual_sales, shampoo_baseline_Model.Forecast_sales)"
   ]
  },
  {
   "cell_type": "code",
   "execution_count": 26,
   "metadata": {},
   "outputs": [
    {
     "data": {
      "text/plain": [
       "11715.388285714285"
      ]
     },
     "execution_count": 26,
     "metadata": {},
     "output_type": "execute_result"
    }
   ],
   "source": [
    "shampoo_error"
   ]
  },
  {
   "cell_type": "code",
   "execution_count": 27,
   "metadata": {},
   "outputs": [
    {
     "data": {
      "text/plain": [
       "108.23764726616282"
      ]
     },
     "execution_count": 27,
     "metadata": {},
     "output_type": "execute_result"
    }
   ],
   "source": [
    "# here i see we not comapre with our values so we need to sqrt of this value\n",
    "\n",
    "np.sqrt(shampoo_error)"
   ]
  },
  {
   "cell_type": "code",
   "execution_count": 28,
   "metadata": {},
   "outputs": [],
   "source": [
    "# as we see 108 is error with the help of baseline model \n",
    "# we have also doing some more model to find what give us the minimum error\n",
    "# ARIMA model, Moving averge , auto regressor\n",
    "\n",
    "# in. this time most of the people use ARIMA modle because it is integrated with auto regressor and moving avg.\n",
    "# we also find AR and MA with the help of ARIMa model like\n",
    "\n",
    "# ARIMA(p,d,q) \n",
    "# p is for auto regresor and q is for moving avg and d is for Difference \n",
    "\n",
    "#if i want to create auto regression i just put one value here i show you\n",
    "# ARIMA(2,0,0)\n",
    "\n",
    "\n",
    "#if i want to create moving Average i just put one value here i show you like this\n",
    "# ARIMA(0,0,2) \n",
    "\n",
    "# we calculate auto regression and moving Average with acf and pacf \n",
    "# pacf is for p like auto regreesive and acf is for moving avg.\n",
    "\n"
   ]
  },
  {
   "cell_type": "code",
   "execution_count": 29,
   "metadata": {},
   "outputs": [],
   "source": [
    "# this library help to acf and pacf\n",
    "\n",
    "from statsmodels.graphics.tsaplots import plot_acf,plot_pacf"
   ]
  },
  {
   "cell_type": "code",
   "execution_count": 30,
   "metadata": {},
   "outputs": [
    {
     "data": {
      "image/png": "[encoded data removed]",
      "text/plain": [
       "<Figure size 432x288 with 1 Axes>"
      ]
     },
     "execution_count": 30,
     "metadata": {},
     "output_type": "execute_result"
    },
    {
     "data": {
      "image/png": "[encoded data removed]",
      "text/plain": [
       "<Figure size 432x288 with 1 Axes>"
      ]
     },
     "metadata": {
      "needs_background": "light"
     },
     "output_type": "display_data"
    }
   ],
   "source": [
    "plot_acf(shampoo)"
   ]
  },
  {
   "cell_type": "code",
   "execution_count": 31,
   "metadata": {},
   "outputs": [
    {
     "data": {
      "image/png": "[encoded data removed]",
      "text/plain": [
       "<Figure size 432x288 with 1 Axes>"
      ]
     },
     "execution_count": 31,
     "metadata": {},
     "output_type": "execute_result"
    },
    {
     "data": {
      "image/png": "[encoded data removed]",
      "text/plain": [
       "<Figure size 432x288 with 1 Axes>"
      ]
     },
     "metadata": {
      "needs_background": "light"
     },
     "output_type": "display_data"
    }
   ],
   "source": [
    "plot_pacf(shampoo)"
   ]
  },
  {
   "cell_type": "code",
   "execution_count": 32,
   "metadata": {},
   "outputs": [],
   "source": [
    "# here i see the corelation between them it wil decresed\n",
    "# so the blue color show the critical range outside of the critical range we take as a no.\n",
    "# start counting with 0 \n",
    "\n",
    "\n",
    "#  like acf (q) == moving avg. (3)\n",
    "#. like pacf (p) == auto regresive (2)\n",
    "#. usually d is stand between 0-2 \n"
   ]
  },
  {
   "cell_type": "code",
   "execution_count": 33,
   "metadata": {},
   "outputs": [],
   "source": [
    "from statsmodels.tsa.arima_model import ARIMA\n",
    "\n"
   ]
  },
  {
   "cell_type": "code",
   "execution_count": 34,
   "metadata": {},
   "outputs": [],
   "source": [
    "# here we do train and test but not taking ramdon data here we take sequentially data\n",
    "\n",
    "shampoo_train = shampoo[0:25]\n",
    "shampoo_test = shampoo[25:36]"
   ]
  },
  {
   "cell_type": "code",
   "execution_count": 35,
   "metadata": {},
   "outputs": [
    {
     "name": "stderr",
     "output_type": "stream",
     "text": [
      "/Users/rishabhraibhandar/opt/anaconda3/lib/python3.7/site-packages/statsmodels/tsa/base/tsa_model.py:215: ValueWarning: An unsupported index was provided and will be ignored when e.g. forecasting.\n",
      "  ' ignored when e.g. forecasting.', ValueWarning)\n",
      "/Users/rishabhraibhandar/opt/anaconda3/lib/python3.7/site-packages/statsmodels/tsa/base/tsa_model.py:215: ValueWarning: An unsupported index was provided and will be ignored when e.g. forecasting.\n",
      "  ' ignored when e.g. forecasting.', ValueWarning)\n"
     ]
    }
   ],
   "source": [
    "shampoo_ARIMA_model = ARIMA(shampoo_train, order = (3,1,2))\n",
    "\n",
    "\n",
    "# here we give the values is not consistent so we do some other combination on it"
   ]
  },
  {
   "cell_type": "code",
   "execution_count": 36,
   "metadata": {},
   "outputs": [],
   "source": [
    "# here i remove this warning\n",
    "\n",
    "import warnings\n",
    "warnings.filterwarnings('ignore')"
   ]
  },
  {
   "cell_type": "code",
   "execution_count": 37,
   "metadata": {},
   "outputs": [],
   "source": [
    "shampoo_arima_modelfit = shampoo_ARIMA_model.fit()"
   ]
  },
  {
   "cell_type": "code",
   "execution_count": 38,
   "metadata": {},
   "outputs": [
    {
     "data": {
      "text/plain": [
       "272.38919480718425"
      ]
     },
     "execution_count": 38,
     "metadata": {},
     "output_type": "execute_result"
    }
   ],
   "source": [
    "shampoo_arima_modelfit.aic"
   ]
  },
  {
   "cell_type": "markdown",
   "metadata": {},
   "source": [
    "### The AIC function is 2K – 2(log-likelihood). Lower AIC values indicate a better-fit model, and a model with a delta-AIC (the difference between the two AIC values being compared) of more than -2 is considered significantly better than the model it is being compared to."
   ]
  },
  {
   "cell_type": "code",
   "execution_count": 39,
   "metadata": {},
   "outputs": [],
   "source": [
    "shampoo_forecast = shampoo_arima_modelfit.forecast(steps = 11)[0]\n",
    "\n"
   ]
  },
  {
   "cell_type": "code",
   "execution_count": 40,
   "metadata": {},
   "outputs": [
    {
     "data": {
      "text/plain": [
       "130.9269055976984"
      ]
     },
     "execution_count": 40,
     "metadata": {},
     "output_type": "execute_result"
    }
   ],
   "source": [
    "np.sqrt(mean_squared_error(shampoo_test,shampoo_forecast))\n",
    "\n",
    "# it is higher then the baseline model so our baseline move have a less error as comapre to ARIMA modle"
   ]
  },
  {
   "cell_type": "code",
   "execution_count": 41,
   "metadata": {},
   "outputs": [],
   "source": [
    "p_values = range(0,5)\n",
    "d_values = range(0,3)\n",
    "q_values = range(0,5)"
   ]
  },
  {
   "cell_type": "code",
   "execution_count": 42,
   "metadata": {},
   "outputs": [
    {
     "name": "stdout",
     "output_type": "stream",
     "text": [
      "ARIMA(0, 0, 0) : RMSE 279.20\n",
      "ARIMA(0, 0, 1) : RMSE 264.80\n",
      "ARIMA(0, 0, 2) : RMSE 242.01\n",
      "ARIMA(0, 0, 3) : RMSE 249.06\n",
      "ARIMA(0, 1, 0) : RMSE 183.98\n",
      "ARIMA(0, 1, 1) : RMSE 201.63\n",
      "ARIMA(0, 1, 2) : RMSE 185.77\n",
      "ARIMA(0, 2, 0) : RMSE 184.44\n",
      "ARIMA(0, 2, 1) : RMSE 168.50\n",
      "ARIMA(1, 0, 0) : RMSE 247.30\n",
      "ARIMA(1, 0, 1) : RMSE 215.71\n",
      "ARIMA(1, 0, 2) : RMSE 209.58\n",
      "ARIMA(1, 1, 0) : RMSE 178.01\n",
      "ARIMA(1, 1, 1) : RMSE 205.37\n",
      "ARIMA(1, 2, 0) : RMSE 137.28\n",
      "ARIMA(1, 2, 1) : RMSE 161.65\n",
      "ARIMA(2, 0, 0) : RMSE 212.72\n",
      "ARIMA(2, 0, 1) : RMSE 177.27\n",
      "ARIMA(2, 0, 4) : RMSE 109.48\n",
      "ARIMA(2, 1, 0) : RMSE 188.38\n",
      "ARIMA(2, 1, 1) : RMSE 199.08\n",
      "ARIMA(2, 1, 2) : RMSE 189.43\n",
      "ARIMA(2, 2, 0) : RMSE 184.46\n",
      "ARIMA(3, 0, 0) : RMSE 215.24\n",
      "ARIMA(3, 1, 0) : RMSE 148.41\n",
      "ARIMA(3, 1, 1) : RMSE 151.13\n",
      "ARIMA(3, 1, 2) : RMSE 134.52\n",
      "ARIMA(3, 1, 4) : RMSE 193.94\n",
      "ARIMA(3, 2, 0) : RMSE 157.15\n",
      "ARIMA(3, 2, 1) : RMSE 127.94\n",
      "ARIMA(3, 2, 2) : RMSE 125.71\n",
      "ARIMA(3, 2, 3) : RMSE 120.38\n",
      "ARIMA(4, 0, 0) : RMSE 182.30\n",
      "ARIMA(4, 0, 1) : RMSE 182.32\n",
      "ARIMA(4, 1, 0) : RMSE 149.46\n",
      "ARIMA(4, 1, 1) : RMSE 150.39\n",
      "ARIMA(4, 1, 2) : RMSE 138.49\n",
      "ARIMA(4, 1, 3) : RMSE 143.53\n",
      "ARIMA(4, 1, 4) : RMSE 138.94\n",
      "ARIMA(4, 2, 0) : RMSE 141.61\n",
      "ARIMA(4, 2, 1) : RMSE 124.79\n",
      "ARIMA(4, 2, 2) : RMSE 132.45\n",
      "ARIMA(4, 2, 3) : RMSE 127.10\n"
     ]
    }
   ],
   "source": [
    "for p in p_values:\n",
    "    for d in d_values:\n",
    "        for q in q_values:\n",
    "            order = (p,d,q)\n",
    "            train, test = shampoo[0:25], shampoo[25:36]\n",
    "            prediction = list()\n",
    "            for i in range(len(test)):\n",
    "                try:\n",
    "                    model = ARIMA(train, order)\n",
    "                    model_fit = model.fit(disp = 0)\n",
    "                    pred_y = model_fit.forecast()[0]\n",
    "                    prediction.append(pred_y)\n",
    "                    error = np.sqrt(mean_squared_error(test, prediction))\n",
    "                    print('ARIMA%s : RMSE %0.2f'% (order, error))\n",
    "                except: \n",
    "                    continue"
   ]
  },
  {
   "cell_type": "code",
   "execution_count": 43,
   "metadata": {},
   "outputs": [
    {
     "data": {
      "text/plain": [
       "127.09906958465415"
      ]
     },
     "execution_count": 43,
     "metadata": {},
     "output_type": "execute_result"
    }
   ],
   "source": [
    "np.amin(error)"
   ]
  },
  {
   "cell_type": "code",
   "execution_count": null,
   "metadata": {},
   "outputs": [],
   "source": []
  }
 ],
 "metadata": {
  "kernelspec": {
   "display_name": "Python 3",
   "language": "python",
   "name": "python3"
  },
  "language_info": {
   "codemirror_mode": {
    "name": "ipython",
    "version": 3
   },
   "file_extension": ".py",
   "mimetype": "text/x-python",
   "name": "python",
   "nbconvert_exporter": "python",
   "pygments_lexer": "ipython3",
   "version": "3.7.4"
  }
 },
 "nbformat": 4,
 "nbformat_minor": 2
}
